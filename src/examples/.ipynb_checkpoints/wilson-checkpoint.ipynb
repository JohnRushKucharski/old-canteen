{
 "cells": [
  {
   "cell_type": "markdown",
   "source": [
    "# <font color='darkorchid'>Wilson Dam</font>\n",
    "<font color = 'slategray' > This notebook provides analyzes simulates the operations at Wilson dam, using the Canteen package. </font>\n",
    "\n",
    "by: John Kucharski | 12 July 2021\n"
   ],
   "metadata": {}
  },
  {
   "cell_type": "code",
   "execution_count": null,
   "source": [
    "import numpy as np\n",
    "import matplotlib.pyplot as plt\n",
    "\n",
    "from scipy import interpolate"
   ],
   "outputs": [],
   "metadata": {}
  },
  {
   "cell_type": "markdown",
   "source": [
    "# <font color = darkviolet> Wilson Reservoir </font>\n",
    "<font color = slategray> This notebook analyzes the Wilson Reservoir in the xx watershed in Kansas. "
   ],
   "metadata": {}
  },
  {
   "cell_type": "code",
   "execution_count": null,
   "source": [
    "import sys\n",
    "import typing\n",
    "import datetime as datetime\n",
    "\n",
    "import numpy as np\n",
    "import pandas as pd\n",
    "from scipy import interpolate"
   ],
   "outputs": [],
   "metadata": {}
  },
  {
   "cell_type": "code",
   "execution_count": null,
   "source": [
    "sys.path.insert(0, '/Users/johnkucharski/Documents/source/canteen')\n",
    "import src.data as data\n",
    "import src.outlet as outlet\n",
    "import src.reservoir as reservoir\n",
    "import src.utilities as utilities\n",
    "import src.operations as operations\n",
    "import src.simulation as simulation"
   ],
   "outputs": [],
   "metadata": {}
  },
  {
   "cell_type": "markdown",
   "source": [
    "## <font color = salmon> Global Variables </font>\n",
    "<font color = slategray> A few global variables used in this notebook are defined here. </font>"
   ],
   "metadata": {}
  },
  {
   "cell_type": "code",
   "execution_count": null,
   "source": [
    "data_folder: str = '/Users/johnkucharski/Documents/data/usace/ks/'"
   ],
   "outputs": [],
   "metadata": {}
  },
  {
   "cell_type": "markdown",
   "source": [
    "## <font color = salmon> Reservoir </font>"
   ],
   "metadata": {}
  },
  {
   "cell_type": "markdown",
   "source": [
    "### <font color = slateblue> map: volume-elevation (rating curve) </font>\n",
    "<font color = slategray> A lot of the Wilson dam and reservoir data is expressed in terms of elevation, instead of volume. As a result, the rating curve needs to be established first. Later on, I plot this data. </font> "
   ],
   "metadata": {}
  },
  {
   "cell_type": "code",
   "execution_count": null,
   "source": [
    "rating_path: str = data_folder + 'wilson_rating_curve.csv'\n",
    "\n",
    "volumes = np.loadtxt(rating_path, skiprows=1, delimiter=',', usecols=[1])      #af\n",
    "elevations = np.loadtxt(rating_path, skiprows=1, delimiter=',', usecols=[0])   #ft\n",
    "\n",
    "f_rating = interpolate.interp1d(volumes, elevations, fill_value=(elevations[0], elevations[-1]), bounds_error=False)\n",
    "inversef_rating = interpolate.interp1d(elevations, volumes, fill_value=(volumes[0], volumes[-1]), bounds_error=False)\n",
    "\n",
    "rating_map = reservoir.Map(name='elevation', f=f_rating, inverse_f=inversef_rating)"
   ],
   "outputs": [],
   "metadata": {}
  },
  {
   "cell_type": "markdown",
   "source": [
    "### <font color = slateblue> outlets </font>\n",
    "<font color = slategray> The reservoir contains two outlets:\n",
    " - gate: a single release gate\n",
    " - spillway: a spillway with no operational control"
   ],
   "metadata": {}
  },
  {
   "cell_type": "code",
   "execution_count": null,
   "source": [
    "gate_path = data_folder + 'wilson_outlets.csv'\n",
    "\n",
    "elevations = np.loadtxt(gate_path, skiprows=1, delimiter=',', usecols=[0])   # ft\n",
    "gate_max_cfs = np.loadtxt(gate_path, skiprows=1, delimiter=',', usecols=[1]) # cfs\n",
    "spillway_cfs = np.loadtxt(gate_path, skiprows=1, delimiter=',', usecols=[2]) # cfs\n",
    "emergency_cfs = np.loadtxt(gate_path, skiprows=1, delimiter=',', usecols=[3]) # cfs\n",
    "\n",
    "gate_location, spillway_location, emergency_location = 1450.5, 1545.5, 1582.5\n",
    "volumes = [inversef_rating(x) for x in elevations]\n",
    "gate_max_af = [x * utilities.days_to_sec(1) * utilities.cf_to_af(1) for x in gate_max_cfs]\n",
    "spillway_af = [x * utilities.days_to_sec(1) * utilities.cf_to_af(1) for x in spillway_cfs]\n",
    "emergency_af = [x * utilities.days_to_sec(1) * utilities.cf_to_af(1) for x in emergency_cfs]\n",
    "\n",
    "gate = outlet.Outlet('gate', gate_location, utilities.f_interpolate_from_data(volumes, gate_max_af, extrapolate_lo=0, extrapolate_hi=gate_max_af[-1]))\n",
    "spillway = outlet.Outlet('spillway', spillway_location, utilities.f_interpolate_from_data(volumes, spillway_af, extrapolate_lo=0, extrapolate_hi=spillway_af[-1])) \n",
    "emergency = outlet.Outlet('emergency_spillway', emergency_location, utilities.f_interpolate_from_data(volumes, emergency_af, extrapolate_lo=0)) #Note: this will return nan above data range.\n",
    "\n",
    "wilson_outlets = [gate, spillway, emergency]"
   ],
   "outputs": [],
   "metadata": {}
  },
  {
   "cell_type": "markdown",
   "source": [
    "<font color = slategray> The following block of code constructs a Canteen _reservoir_ object, for Wilson Dam."
   ],
   "metadata": {}
  },
  {
   "cell_type": "code",
   "execution_count": null,
   "source": [
    "k = float(inversef_rating(1592))\n",
    "wilson = reservoir.Reservoir(capacity=k, outlets=wilson_outlets, maps={rating_map})\n",
    "wilson.print()"
   ],
   "outputs": [],
   "metadata": {}
  },
  {
   "cell_type": "markdown",
   "source": [
    "## <font color = salmon> Operations </font>\n",
    "\n",
    "<font color = 'slategray'>Wilson reservoir operations in this workbook are based on those found in the 2021 Hydrologic Engineering Center Reservoir Simulation (HEC-RESSIM) model of the Kansas River Reservoirs Flood and Sediment Study. To run a simulation in the Canteen package, all the operations are contained in a single **operate()** function. However, for clarity the componentized HEC-RESSIM model set up is followed below.</font>\n",
    "\n",
    "### <font color = slateblue>Pools</font>\n",
    "\n",
    "<font color = slategray>In the HEC-RESSIM model, operational rules are defined for the following zones: \n",
    "<ol>\n",
    "<li> inactive (no operations) pool</li>\n",
    "<li> conservation pool </li>\n",
    "<li> flood pool, and </li> \n",
    "<li> surcharge space </li>\n",
    "</ol>\n",
    "\n",
    "In the HEC-RESSIM model releases above the top of the conservation pool/bottom of the flood pool is determined based on the storage in some of the Kansas River watershed system reservoirs. To reproduce that behavior here would require modeling the entire system, this beyond the scope of this assignment (and would not support the goals of this assignment). The operations here assume a constant top of conservation pool elevation of 1516 ft (as indicated in the HEC-RESSIM model).\n",
    "\n",
    "The _active_zone()_ function in the next block of code, is used during the simulation to determine which zone of the reservoir is active. It returns an enum provided in the _operations_ module. "
   ],
   "metadata": {}
  },
  {
   "cell_type": "code",
   "execution_count": null,
   "source": [
    "top_inactive_elev_ft = 1440\n",
    "top_conservation_elev_ft = 1516\n",
    "surcharge_elevation_ft = 1554.5\n",
    "\n",
    "def active_zone(input: data.Input) -> operations.Zone:\n",
    "    if input.storage + input.inflow  < rating_map.inverse_f(top_inactive_elev_ft):\n",
    "        return operations.Zone.INACTIVE\n",
    "    elif rating_map.inverse_f(top_inactive_elev_ft) < input.storage + input.inflow < rating_map.inverse_f(top_conservation_elev_ft):\n",
    "        return operations.Zone.CONSERVATION\n",
    "    elif rating_map.inverse_f(top_conservation_elev_ft) < input.storage + input.inflow < rating_map.inverse_f(surcharge_elevation_ft):\n",
    "        return operations.Zone.FLOOD\n",
    "    else:\n",
    "        return operations.Zone.SURCHARGE"
   ],
   "outputs": [],
   "metadata": {}
  },
  {
   "cell_type": "markdown",
   "source": [
    "<font color=slategray> Next operations for each of these pools are defined as seperate functions. All of these operations could be defined in one large function, but this componentization of the code more closely matches the way these rule are defined in the HEC-RESSIM model. Each function takes two arguments: \n",
    "\n",
    "1. input (_input.Input_): inputs for a single timestep in the simulation. This input object contains at a minimum:\n",
    "\n",
    "    * _Input.date_: a date for the simulation timestep, \n",
    "    * _Input.storage_: the reservoir storage volume leading into the timestep, and\n",
    "    * _Input.inflow_: the inflow volume into the reservoir in that timestep\n",
    "    * optional _Input.additional_arguments_ are discussed later in the notebook.\n",
    "<br/><br/>\n",
    "2. outlets (List[outlet.Outlet]): a list of outlets from which the releases will be made, typically Reservoir.outlets\n",
    "\n",
    "Each fuction returns a dictionary (_Dict[str, float]_) with keys matching the _Outlet.name_ attribute an the release volume values.\n",
    "\n",
    "\n",
    "#### <font color = slateblue> INACTIVE ZONE\n",
    "\n",
    "<font color=slategray> Within the inactive zone no releases are made."
   ],
   "metadata": {}
  },
  {
   "cell_type": "code",
   "execution_count": null,
   "source": [
    "def inactive_operations(input: data.Input, outlets: typing.List[outlet.Outlet] = wilson_outlets) -> typing.Dict[str, float]:\n",
    "    return {x.name: 0.0 for x in outlets}\n",
    "print(inactive_operations(data.Input(datetime.date(2020, 1, 1), 1, 1), wilson_outlets))"
   ],
   "outputs": [],
   "metadata": {}
  },
  {
   "cell_type": "markdown",
   "source": [
    "#### <font color = slateblue> CONSERVATION POOL\n",
    "\n",
    "<font color=slategray> A simple minimum release, defined as step function (based on time of year) is made from the conseration pool."
   ],
   "metadata": {}
  },
  {
   "cell_type": "code",
   "execution_count": null,
   "source": [
    "def conservation_operations(input: data.Input, outlets: typing.List[outlet.Outlet] = wilson_outlets) -> typing.Dict[str, float]:\n",
    "    yr: int = input.date.year\n",
    "    convert = utilities.days_to_sec(1) * utilities.cf_to_af(1)\n",
    "    release = 15.0 * convert if datetime.date(yr, 4, 1) < input.date < datetime.date(yr, 10, 1) else 5.0 * convert    \n",
    "    return  {x.name: (min(release, x.max_release(input.storage + input.inflow)) if x.name == 'gate' else 0.0) for x in outlets}  \n",
    "print(conservation_operations(data.Input(datetime.date(2020, 1, 1), rating_map.inverse_f(1518), 1), wilson_outlets))     "
   ],
   "outputs": [],
   "metadata": {}
  },
  {
   "cell_type": "markdown",
   "source": [
    "#### <font color = slateblue> FLOOD POOL\n",
    "\n",
    "<font color=slategray> In the HEC-RESSSIM model flood operations depend on storage in other Kansas watershed system reservoirs. Functions for these operations are provided at the end of this workbook, but are beyond the scope (would require modeling the entire system) and needs of this study. For this reason, a simple flood pool rule is provided in the next code block."
   ],
   "metadata": {}
  },
  {
   "cell_type": "code",
   "execution_count": null,
   "source": [
    "def flood_operations(input: data.Input, outlets: typing.List[outlet.Outlet] = wilson_outlets):\n",
    "    release = {}\n",
    "    storage = input.storage + input.inflow \n",
    "    target = storage - rating_map.inverse_f(top_conservation_elev_ft)\n",
    "    for x in outlets:\n",
    "        out = min(x.max_release(storage), target)\n",
    "        storage, target = storage - out, target - out\n",
    "        release[x.name] = out\n",
    "    return release\n",
    "print(flood_operations(data.Input(datetime.date(2020, 1, 1), rating_map.inverse_f(1550), 1), wilson_outlets))"
   ],
   "outputs": [],
   "metadata": {}
  },
  {
   "cell_type": "markdown",
   "source": [
    "#### <font color = slateblue> SURCHARGE SPACE\n",
    "\n",
    "<font color=slategray> In this pool the _flood_release()_ rules still apply. No rules are given for releases above 1588 ft (the top of dam is at 1592), operations at 1588 are assumed for the purposes of this model to extend to the top of dam. Above the top of dam outflow will be assumed to equal inflow."
   ],
   "metadata": {}
  },
  {
   "cell_type": "code",
   "execution_count": null,
   "source": [
    "def surcharge_operations(input: data.Input, outlets: typing.List[outlet.Outlet] = wilson_outlets):\n",
    "    storage = input.storage + input.inflow\n",
    "    emergency_release = outlet.select_outlet('emergency_spillway', outlets).max_release(storage)\n",
    "    storage = storage - emergency_release\n",
    "    spillway_release = outlet.select_outlet('spillway', outlets).max_release(storage)\n",
    "    storage = storage - spillway_release\n",
    "    releases = flood_operations(data.Input(input.date, inflow = 0, storage = storage), outlet.deselect_outlets(['spillway', 'emergency_spillway'], outlets))\n",
    "    releases['spillway'] = spillway_release\n",
    "    releases['emergency_spillway'] = emergency_release\n",
    "    return releases\n",
    "print(surcharge_operations(data.Input(datetime.date(2020, 1, 1), rating_map.inverse_f(1585), 1), wilson_outlets))"
   ],
   "outputs": [],
   "metadata": {}
  },
  {
   "cell_type": "markdown",
   "source": [
    "### <font color = slateblue>operate() Function</font>\n",
    "\n",
    "<font color = slategray>As is mentioned above, the canteen package requires an _operate_ function, which matches the signature of the pool release functions defined above. In other words it must take: (1) an input (_input.Input_), and (2) outlets (_List[outlet.Outlet]_) as arguments and return a _Dict[str, float]_ dictionary of _Outlet.name_ keys with release volume value pairs. This can be a single function that contains all the reservoir's operational rules. \n",
    "\n",
    "In this case, Wilson dam's operational rules are defined above across multiple functions (namely: _inactive_operations()_, _conservation_operations()_, _flood_operations()_, _surcharge_operations()_). In particular, a single function is defined for each of the reservoir's active zones. The active zones are in turn defined by the _active_zone()_ function. \n",
    "\n",
    "The _operations_ module contains an _Operations_ base class that contains the required _operate()_ function. Its constructor, accepts a list of rules, matching the _operate()_ function's signature. A _Wilson_Operations_ subclass that inherits from the _Operations_ base class is createed below, its constructor takes the _active_zone()_ function as an arguement, in addition to the rules required by baseclass. This _active_zone()_ function and operational rules are used to fill out its _operate()_ function."
   ],
   "metadata": {}
  },
  {
   "cell_type": "code",
   "execution_count": null,
   "source": [
    "\n",
    "wilson_rules = [inactive_operations, conservation_operations, flood_operations, surcharge_operations] \n",
    "class Wilson_Operations(operations.Operations):\n",
    "    def __init__(self, rules: typing.List[typing.Callable[[data.Input, typing.List[outlet.Outlet]], typing.Dict[str, float]]] = wilson_rules,\n",
    "                 wilson_active_zone: typing.Callable[[data.Input], operations.Zone] = active_zone) -> None:\n",
    "        self.active_zone = wilson_active_zone\n",
    "        super().__init__(rules)\n",
    "    \n",
    "    @property\n",
    "    def rules(self):\n",
    "        return super().rules\n",
    "    \n",
    "    def operate(self, input: data.Input, outlets: typing.List[outlet.Outlet]) -> typing.Dict[str, float]:\n",
    "        zone = self.active_zone(input)\n",
    "        if zone == operations.Zone.INACTIVE:\n",
    "            return self.rules[0](input, outlets)\n",
    "        elif zone == operations.Zone.CONSERVATION:\n",
    "            return self.rules[1](input, outlets)\n",
    "        elif zone == operations.Zone.FLOOD:\n",
    "            return self.rules[2](input, outlets)\n",
    "        else: #zone == operatins.Zone.SURCHARGE\n",
    "            return self.rules[3](input, outlets)\n",
    "              \n",
    "wilson_ops = Wilson_Operations(wilson_rules)\n",
    "print(wilson_ops.operate(data.Input(datetime.datetime(2021, 9, 3), 100), wilson_outlets))"
   ],
   "outputs": [],
   "metadata": {}
  },
  {
   "cell_type": "markdown",
   "source": [
    "## <font color = salmon> Water Quality </font>\n",
    "\n",
    "<font color = slategray> The central goal of Wilson example it to model a water quality metric, in the concentration of salinity, as a function of the reservoir operations. Secondary and tertiary goals include: \n",
    "\n",
    "* evaluating salinity under a variety of plausible inflows, and\n",
    "* optimizing the operations with respect to the salinity metric, given other operating constraints.\n",
    "\n",
    "The salinity data is very poor (nearly unusable). The 'salinity_concentration' function below if a flexible continious formulation of the salinity concentration with respect to inflows, $f(x, b, a) = \\frac{b}{(1 + x^{a})}$, where $x$ is reservoir inflow, $b$ is the concentration for minimum flow conditions, and $a$ controls the rate at which the concentration trends toward $0$ for increasing flow volumes. Using the default formulation, the function is: $f(x) = \\frac{1.7}{1 + x^1}$."
   ],
   "metadata": {}
  },
  {
   "cell_type": "code",
   "execution_count": null,
   "source": [
    "def salinity_concentration(input: data.Input, base_concentration: float = 1.7, decay: float = 1):\n",
    "    '''\n",
    "        A rational function used to estimte percent salinity of reservoir inflows. \n",
    "        The highest concentration, 1.7% by default occurs with minimal flows, the concentration asymptotes toward 0 with increasing flow values.\n",
    "\n",
    "        Args:\n",
    "            input [data.input]: the input, containing the input inflow for a single timestep.\n",
    "            base_concentration [float]: the maximum concentration, 1.7 percent by default.\n",
    "            decay [float]: controls the rate a which the estimated concentation trends toward zero with increasing flow values, 1 by default (<1 for slower decay, >1 for faster decay).\n",
    "        Returns:\n",
    "            A float salinity concentration as a percent.\n",
    "    '''\n",
    "    return 0 if input.inflow == 0 else 1.7 / (1 + input.inflow**decay)"
   ],
   "outputs": [],
   "metadata": {}
  },
  {
   "cell_type": "markdown",
   "source": [
    "## <font color = salmon> Simulation </font>\n",
    "\n",
    "<font color = 'slategray'>A simulation is run using the _simulate()_ function. This function takes the following arguments:\n",
    "    \n",
    "1. **wilson**: _Reservoir_ object (described above), \n",
    "2. **wilson_ops**: _operate()_ function (also described above), and\n",
    "3. a list of data **inputs**: _List[input.Input]_ (described below)\n",
    "</font>\n",
    "\n",
    "\n",
    "### <font color = slateblue>Input</font>\n",
    "\n",
    "<font color = slategray>The inputs for a simulation are provided as a list of inputs (e.g. _List[inputs.Input]_). Each _Input_ item in this list serves as the input for a timestep in the simulation model. An _Input_ contains at a minimum:\n",
    "\n",
    "1. _date_: a _datetime.date_ for the simulation timestep. </li>\n",
    "2. _inflow_: an inflow volume at the _Reservoir_ during the simulation timestep. </li>\n",
    "3. _storage_: an storage volume in the reservoir at the beginning of timestep. </li> \n",
    "4. _additional_arguments_: an optional _Dict[str, float]_ of input key, value pairs described below. </li>\n",
    "\n",
    "In this case the _date_ and _inflow_ parameters for the list of _Input_ are taken from the _dam_inflows.csv_ data. The simulation is initialized with the _Input.storage_ value equivalent to the top of conservation pool. Each subsquent _Input.storage_ value is updated within the _simulate()_ function. The np.nan value is used to initialize each _Input.storage_ value. A function for importing the _dam_inflows.csv_ data, and generating the _storage_ values is presented and run below. Then the first 5 _Input_ values are displayed."
   ],
   "metadata": {}
  },
  {
   "cell_type": "code",
   "execution_count": null,
   "source": [
    "def import_wilson_csv(path: str, initial_storage: float) -> pd.DataFrame:\n",
    "    df = pd.read_csv(path, header=0, names=['_', 'date', 'inflow_cfs', '__'], skiprows=[1, 2, 3], skipinitialspace=True, \n",
    "                     usecols=['date', 'inflow_cfs'], dtype={'inflow_cfs': float}, parse_dates=True)\n",
    "    df.dropna(axis='rows', inplace=True)\n",
    "    df.reset_index(drop=True, inplace =True)\n",
    "    df['date'] = pd.to_datetime([x.rsplit(',', maxsplit=1)[0] for x in df['date'].to_list()])\n",
    "    df['inflow_af'] = [(x * utilities.days_to_sec(1) * utilities.cf_to_af(1)) for x in df.inflow_cfs.to_numpy()]\n",
    "    df['storage_af'] = np.concatenate(([initial_storage], np.full(df.shape[0] - 1, np.nan)))\n",
    "    df.drop(columns=['inflow_cfs'], inplace=True)\n",
    "    return df\n",
    "wilson_input_data = import_wilson_csv(data_folder + 'dam_inflows.csv', rating_map.inverse_f(top_conservation_elev_ft))\n",
    "wilson_input_data.head()"
   ],
   "outputs": [],
   "metadata": {}
  },
  {
   "cell_type": "code",
   "execution_count": null,
   "source": [
    "def salinity_concentration(input: data.Input, baseflow_threshold: float = 40, baseflow_concentration: float = 17):\n",
    "    #seawater is 35 pp thousand or 3.5% by weight\n",
    "    #in the spreadsheet is lists 1.7% I don't know if this is by weight but that would be ~17 pp thousand, in CA more than 2 pp thousand is unacceptable\n",
    "    if input.inflow < baseflow_threshold:\n",
    "        return baseflow_concentration\n",
    "    else:\n",
    "        runoff = input.inflow - baseflow_concentration\n",
    "        runoff_concentration = "
   ],
   "outputs": [],
   "metadata": {}
  },
  {
   "cell_type": "code",
   "execution_count": null,
   "source": [
    "wilson_inputs = [data.Input(date=row['date'], inflow=row['inflow_af'], storage=row['storage_af'], update_storage=True) for _, row in wilson_input_data.iterrows()]\n",
    "wilson_simulation = simulation.Simulation(wilson_inputs, wilson, wilson_ops.operate)\n",
    "outs = wilson_simulation.simulate()\n",
    "#print(outs['date'][0])"
   ],
   "outputs": [],
   "metadata": {}
  },
  {
   "cell_type": "markdown",
   "source": [],
   "metadata": {}
  },
  {
   "cell_type": "code",
   "execution_count": null,
   "source": [
    "#print(outs['storage'])"
   ],
   "outputs": [],
   "metadata": {}
  },
  {
   "cell_type": "code",
   "execution_count": null,
   "source": [
    "outflow: typing.Dict[str, typing.List[float]] = {'a': list(), 'b':[1, 2]}\n",
    "r = {'a': 1, 'c': 3}\n",
    "outflow.update({ k: outflow[k] + [v] if k in outflow else [v] for k, v in r.items() })\n",
    "print(outflow)"
   ],
   "outputs": [],
   "metadata": {}
  },
  {
   "cell_type": "markdown",
   "source": [
    "The "
   ],
   "metadata": {}
  },
  {
   "cell_type": "code",
   "execution_count": null,
   "source": [
    "yr: int = 2021 #required by datetime module but not used here.\n",
    "may_to_june_elev_ft, rest_of_yr_elev_ft = 1539, 1531\n",
    "rule_curve = operations.Rule_Curve([(datetime.date(yr, 1, 1), rest_of_yr_elev_ft), (datetime.date(yr, 4, 1), rest_of_yr_elev_ft),\n",
    "                                    (datetime.date(yr, 5, 1), may_to_june_elev_ft), (datetime.date(yr, 6, 1), may_to_june_elev_ft),\n",
    "                                    (datetime.date(yr, 7, 1), rest_of_yr_elev_ft)])"
   ],
   "outputs": [],
   "metadata": {}
  },
  {
   "cell_type": "code",
   "execution_count": null,
   "source": [
    "a, b, c = 1, 2, 3\n",
    "x = c if a == 2 and b == 3 else 0\n",
    "print(x) \n",
    "if a == 1: print('true')"
   ],
   "outputs": [],
   "metadata": {}
  }
 ],
 "metadata": {
  "interpreter": {
   "hash": "af2a3020e4c65fbdb5f1d2953561583ddfd5b8dbf8076da1b196c87998ca6a0d"
  },
  "kernelspec": {
   "name": "python3",
   "display_name": "Python 3.9.6 64-bit ('canteen': conda)"
  },
  "language_info": {
   "codemirror_mode": {
    "name": "ipython",
    "version": 3
   },
   "file_extension": ".py",
   "mimetype": "text/x-python",
   "name": "python",
   "nbconvert_exporter": "python",
   "pygments_lexer": "ipython3",
   "version": "3.9.6"
  },
  "orig_nbformat": 4
 },
 "nbformat": 4,
 "nbformat_minor": 2
}