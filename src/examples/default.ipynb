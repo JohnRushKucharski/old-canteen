{
 "cells": [
  {
   "cell_type": "markdown",
   "source": [
    "# <font color='darkorchid'>Default Canteen</font>\n",
    "<font color = 'slategray' > This notebook provides an example setup for a default reservoir and simulation using the Canteen package. This is the best staring place for new users. It covers the package's major data structures and overall simulation process, but not how the various data structures are parameterized. Other example notebooks (i.e. wilson.ipynb) cover the paramterizaiton process in more detail.  </font>\n",
    "\n",
    "by: John Kucharski | 22 March 2021"
   ],
   "metadata": {}
  },
  {
   "cell_type": "code",
   "execution_count": 1,
   "source": [
    "import sys\n",
    "import typing\n",
    "import datetime\n",
    "\n",
    "import numpy as np\n",
    "import pandas as pd\n",
    "import matplotlib.pyplot as plt"
   ],
   "outputs": [],
   "metadata": {}
  },
  {
   "cell_type": "code",
   "execution_count": 2,
   "source": [
    "sys.path.insert(0, '/Users/johnkucharski/Documents/source/canteen')\n",
    "from src.data import Input\n",
    "from src.reservoir import Reservoir\n",
    "import src.operations as operations \n",
    "from src.simulation import Simulation"
   ],
   "outputs": [],
   "metadata": {}
  },
  {
   "cell_type": "markdown",
   "source": [
    "# <font color=salmon> Input </font>\n",
    "\n",
    "<font color=slategray> Data for reservoir simulations are contained in a list of _Input_ objects. Other example notebooks (i.e. wilson.ipynb) demonstrate how these data can be read in from external files (i.e. *.csv files). In this example notebook, a list is generated using the default _Input_ object constructor. This constructor takes the following arguments:\n",
    "\n",
    "* _date_: a datetime for the time step. \n",
    "* _inflow_: a float inflow value, for each time step.\n",
    "* _storage_ (optional): a float volume of storage at the reservoir at the beginning of the timestep. \n",
    "* _additional_inputs_ (optional): Dict[str, Additional_Input]: an optional argument that allows for any other relevant input (i.e. temperature, etc.) to be used in the simulation.\n",
    "\n",
    "In this case the simulation will run for 4 days from January 1, 2000 to January 4, 2000, a sequence of inflows [1, 1, 2, 0] are provide along with an initial storage volume of 0 (storage volumes will be computed for the following timesteps). No optional additional inputs are provided."
   ],
   "metadata": {}
  },
  {
   "cell_type": "code",
   "execution_count": 3,
   "source": [
    "inputs = [\n",
    "    Input(date=datetime.datetime(2000, 1, 1), inflow=1, storage=0),\n",
    "    Input(date=datetime.datetime(2000, 1, 2), inflow=1),\n",
    "    Input(date=datetime.datetime(2000, 1, 3), inflow=2),\n",
    "    Input(date=datetime.datetime(2000, 1, 4), inflow=0),\n",
    "    Input(date=datetime.datetime(2000, 1, 5), inflow=0)]\n",
    "[input.print() for input in inputs]"
   ],
   "outputs": [
    {
     "output_type": "execute_result",
     "data": {
      "text/plain": [
       "['01 Jan 2000 (inflow: 1, storage: 0, additional inputs: none)',\n",
       " '02 Jan 2000 (inflow: 1, storage: nan, additional inputs: none)',\n",
       " '03 Jan 2000 (inflow: 2, storage: nan, additional inputs: none)',\n",
       " '04 Jan 2000 (inflow: 0, storage: nan, additional inputs: none)',\n",
       " '05 Jan 2000 (inflow: 0, storage: nan, additional inputs: none)']"
      ]
     },
     "metadata": {},
     "execution_count": 3
    }
   ],
   "metadata": {}
  },
  {
   "cell_type": "markdown",
   "source": [
    "# <font color='salmon'>Reservoir</font>\n",
    "\n",
    "A reservoir in the canteen program is made up of the following items:\n",
    "* a <i>capacity</i> and <i>bottom</i> volume\n",
    "* a list of <i>outlets</i>\n",
    "* a dictionary functional <i>maps</i> linking volumetric locations to named variables\n",
    "* a <i>name</i>\n",
    "\n",
    "A default reservoir can be created with a single line of code."
   ],
   "metadata": {}
  },
  {
   "cell_type": "code",
   "execution_count": 4,
   "source": [
    "default_canteen = Reservoir()\n",
    "default_canteen.print()"
   ],
   "outputs": [
    {
     "output_type": "execute_result",
     "data": {
      "text/plain": [
       "'default(capacity: 1, outlets: [spill(location: 1)], mapped variables: [None])'"
      ]
     },
     "metadata": {},
     "execution_count": 4
    }
   ],
   "metadata": {}
  },
  {
   "cell_type": "markdown",
   "source": [
    "By default the reservoir <i>capacity</i> = 1, a single spillway <i>outlet</i> is constructed, no <i>maps</i> are provided and the <i>name</i> of the reservoir is 'default'. These attributes are visable using the <i>reservoir</i> object's <i>print()</i> command."
   ],
   "metadata": {}
  },
  {
   "cell_type": "markdown",
   "source": [
    "# <font color='salmon'>Operations</font>\n",
    "\n",
    "<font color=slategray> Operations are functions applied to the reservoir during a simulation. They are defined seperately and are not part of the _Reservoir_ object. In the _canteen_ package an operations function must (at a minimum) accept the following arguments:\n",
    "\n",
    "* _input_: a _data.Input_ object containing at a minimum: a _date_, and an _inflow_. The _input_ object is discussed above.\n",
    "* _outlets_: reservoir outlets, as described above.\n",
    " \n",
    "The operations function must return a _Dict[str, float]_ that describes the release from each of the  _outlets_ provided in the function inputs.\n",
    "\n",
    "Some basic reservoir operations functions used to identify: target reservoir volumes (such as rule curves), target releases (such as maximum flood safe outflows and hedging rules) and releases made from each <i>outlet</i> are provided as part of the operations package. However, reservoir operations for simulation models are generally constructed from user defined functions. \n",
    "\n",
    "The defalut canteen's operations will be driven by the _passive_operations()_ function in the _operations_ module. This function is copied below.\n",
    "\n",
    "```python\n",
    "def passive_operations(input: data.Input, outlets: typing.List[outlet.Outlet]) -> typing.Dict[str, float]:\n",
    "    releases = {}\n",
    "    outlets.sort(key=lambda x: x.location)\n",
    "    stored, released = input.storage + input.inflow, 0\n",
    "    for x in outlets:\n",
    "        released += x.max_release(stored)\n",
    "        releases[x.name] = released\n",
    "        stored -= released\n",
    "    return releases\n",
    "```\n",
    "\n",
    "It causes the reservoir to release water that can be released (and therefore store water that cannot be released). Since the default canteen has only one spillway at the top of the reservoir (at its capacity volume of 1) the reservoir will only make spilled releases."
   ],
   "metadata": {}
  },
  {
   "cell_type": "markdown",
   "source": [
    "# <font color='salmon'>Simulation</font>\n",
    "\n",
    "<font color=slategray>To start a simulation the required components:\n",
    "* _inputs_: List[Input] (described above),\n",
    "* _reservoir_: Reservoir (described above),\n",
    "* _operate_function_: Callable[[Input, List[Outlet], Dict[str, float]] (described above),\n",
    "* _additional_outputs_ (optional): Dict[str, Additional_Output] (described in other examples, i.e. Wilson.ipynb)\n",
    "\n",
    "are assembled in a Simulation object. The simulate() function runs the simulation. To view the results as a dataframe, the simulate_to_dataframe() function is used below."
   ],
   "metadata": {}
  },
  {
   "cell_type": "code",
   "execution_count": 5,
   "source": [
    "default_simulation = Simulation(inputs, default_canteen, operations.passive_operations)\n",
    "results = default_simulation.simulate_to_dataframe()\n",
    "results.head()"
   ],
   "outputs": [
    {
     "output_type": "execute_result",
     "data": {
      "text/html": [
       "<div>\n",
       "<style scoped>\n",
       "    .dataframe tbody tr th:only-of-type {\n",
       "        vertical-align: middle;\n",
       "    }\n",
       "\n",
       "    .dataframe tbody tr th {\n",
       "        vertical-align: top;\n",
       "    }\n",
       "\n",
       "    .dataframe thead th {\n",
       "        text-align: right;\n",
       "    }\n",
       "</style>\n",
       "<table border=\"1\" class=\"dataframe\">\n",
       "  <thead>\n",
       "    <tr style=\"text-align: right;\">\n",
       "      <th></th>\n",
       "      <th>inflow</th>\n",
       "      <th>storage</th>\n",
       "      <th>spill</th>\n",
       "      <th>total_release</th>\n",
       "    </tr>\n",
       "    <tr>\n",
       "      <th>date</th>\n",
       "      <th></th>\n",
       "      <th></th>\n",
       "      <th></th>\n",
       "      <th></th>\n",
       "    </tr>\n",
       "  </thead>\n",
       "  <tbody>\n",
       "    <tr>\n",
       "      <th>2000-01-01</th>\n",
       "      <td>1</td>\n",
       "      <td>0</td>\n",
       "      <td>0</td>\n",
       "      <td>0</td>\n",
       "    </tr>\n",
       "    <tr>\n",
       "      <th>2000-01-02</th>\n",
       "      <td>1</td>\n",
       "      <td>1</td>\n",
       "      <td>1</td>\n",
       "      <td>1</td>\n",
       "    </tr>\n",
       "    <tr>\n",
       "      <th>2000-01-03</th>\n",
       "      <td>2</td>\n",
       "      <td>1</td>\n",
       "      <td>2</td>\n",
       "      <td>2</td>\n",
       "    </tr>\n",
       "    <tr>\n",
       "      <th>2000-01-04</th>\n",
       "      <td>0</td>\n",
       "      <td>1</td>\n",
       "      <td>0</td>\n",
       "      <td>0</td>\n",
       "    </tr>\n",
       "    <tr>\n",
       "      <th>2000-01-05</th>\n",
       "      <td>0</td>\n",
       "      <td>1</td>\n",
       "      <td>0</td>\n",
       "      <td>0</td>\n",
       "    </tr>\n",
       "  </tbody>\n",
       "</table>\n",
       "</div>"
      ],
      "text/plain": [
       "            inflow  storage  spill  total_release\n",
       "date                                             \n",
       "2000-01-01       1        0      0              0\n",
       "2000-01-02       1        1      1              1\n",
       "2000-01-03       2        1      2              2\n",
       "2000-01-04       0        1      0              0\n",
       "2000-01-05       0        1      0              0"
      ]
     },
     "metadata": {},
     "execution_count": 5
    }
   ],
   "metadata": {}
  },
  {
   "cell_type": "code",
   "execution_count": 6,
   "source": [
    "default_simulation.plot(results)"
   ],
   "outputs": [
    {
     "output_type": "display_data",
     "data": {
      "image/png": "[encoded data removed]",
      "text/plain": [
       "<Figure size 720x360 with 2 Axes>"
      ]
     },
     "metadata": {
      "needs_background": "light"
     }
    }
   ],
   "metadata": {}
  }
 ],
 "metadata": {
  "interpreter": {
   "hash": "af2a3020e4c65fbdb5f1d2953561583ddfd5b8dbf8076da1b196c87998ca6a0d"
  },
  "kernelspec": {
   "name": "python3",
   "display_name": "Python 3.9.6 64-bit ('canteen': conda)"
  },
  "language_info": {
   "name": "python",
   "version": "3.9.6",
   "mimetype": "text/x-python",
   "codemirror_mode": {
    "name": "ipython",
    "version": 3
   },
   "pygments_lexer": "ipython3",
   "nbconvert_exporter": "python",
   "file_extension": ".py"
  },
  "orig_nbformat": 4
 },
 "nbformat": 4,
 "nbformat_minor": 2
}