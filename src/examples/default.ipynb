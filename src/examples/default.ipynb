{
 "cells": [
  {
   "cell_type": "markdown",
   "metadata": {},
   "source": [
    "# <font color='darkorchid'>Default Canteen</font>\n",
    "<font color = 'slategray' > This notebook provides an example setup for a default reservoir and simulation using the Canteen package. This is the best staring place for new users. It covers the package's major data structures and overall simulation process, but not how the various data structures are parameterized. Other example notebooks (i.e. wilson.ipynb) cover the paramterizaiton process in more detail.  </font>\n",
    "\n",
    "by: John Kucharski | 22 March 2021"
   ]
  },
  {
   "cell_type": "code",
   "execution_count": 1,
   "metadata": {},
   "outputs": [],
   "source": [
    "import sys\n",
    "from datetime import datetime"
   ]
  },
  {
   "cell_type": "code",
   "execution_count": 2,
   "metadata": {},
   "outputs": [],
   "source": [
    "sys.path.insert(0, '/Users/johnkucharski/Documents/source/canteen')\n",
    "from src.data import Category, Input, TimeStep, TimeSeries\n",
    "from src.reservoir import Reservoir\n",
    "import src.operations as operations \n",
    "from src.simulation import Simulation"
   ]
  },
  {
   "cell_type": "markdown",
   "metadata": {},
   "source": [
    "# <font color=salmon> Input </font>\n",
    "\n",
    "<font color=slategray> Data for reservoir simulations are contained in a list of _Input_ objects. Other example notebooks (i.e. wilson.ipynb) demonstrate how these data can be read in from external files (i.e. *.csv files). In this example notebook, a list is generated using the default _Input_ object constructor. This constructor takes the following arguments:\n",
    "\n",
    "* _date_: a datetime for the time step. \n",
    "* _inflow_: a float inflow value, for each time step.\n",
    "* _storage_ (optional): a float volume of storage at the reservoir at the beginning of the timestep. \n",
    "* _additional_inputs_ (optional): Dict[str, Additional_Input]: an optional argument that allows for any other relevant input (i.e. temperature, etc.) to be used in the simulation.\n",
    "\n",
    "In this case the simulation will run for 4 days from January 1, 2000 to January 4, 2000, a sequence of inflows [1, 1, 2, 0] are provide along with an initial storage volume of 0 (storage volumes will be computed for the following timesteps). No optional additional inputs are provided."
   ]
  },
  {
   "cell_type": "code",
   "execution_count": 3,
   "metadata": {},
   "outputs": [
    {
     "data": {
      "text/plain": [
       "['01 Jan 2000 (inflow: 1, storage: 0)',\n",
       " '02 Jan 2000 (inflow: 1)',\n",
       " '03 Jan 2000 (inflow: 2)',\n",
       " '04 Jan 2000 (inflow: 0)',\n",
       " '05 Jan 2000 (inflow: 0)']"
      ]
     },
     "execution_count": 3,
     "metadata": {},
     "output_type": "execute_result"
    }
   ],
   "source": [
    "inputs = TimeSeries(timesteps=[\n",
    "    TimeStep(datetime(2000, 1, 1), inputs={'inflow': Input(1), 'storage': Input(0, category=Category.STORAGE)}),\n",
    "    TimeStep(datetime(2000, 1, 2), inputs={'inflow': Input(1)}),\n",
    "    TimeStep(datetime(2000, 1, 3), inputs={'inflow': Input(2)}),\n",
    "    TimeStep(datetime(2000, 1, 4), inputs={'inflow': Input(0)}),\n",
    "    TimeStep(datetime(2000, 1, 5), inputs={'inflow': Input(0)})])\n",
    "[input.print() for input in inputs.timesteps]"
   ]
  },
  {
   "cell_type": "markdown",
   "metadata": {},
   "source": [
    "# <font color='salmon'>Reservoir</font>\n",
    "\n",
    "A reservoir in the canteen program is made up of the following items:\n",
    "* a <i>capacity</i> and <i>bottom</i> volume\n",
    "* a list of <i>outlets</i>\n",
    "* a dictionary functional <i>maps</i> linking volumetric locations to named variables\n",
    "* a <i>name</i>\n",
    "\n",
    "A default reservoir can be created with a single line of code."
   ]
  },
  {
   "cell_type": "code",
   "execution_count": 4,
   "metadata": {},
   "outputs": [
    {
     "data": {
      "text/plain": [
       "'default(capacity: 1, outlets: [spill(location: 1.0)], mapped variables: [None])'"
      ]
     },
     "execution_count": 4,
     "metadata": {},
     "output_type": "execute_result"
    }
   ],
   "source": [
    "default_canteen = Reservoir()\n",
    "default_canteen.print()"
   ]
  },
  {
   "cell_type": "markdown",
   "metadata": {},
   "source": [
    "By default the reservoir <i>capacity</i> = 1, a single spillway <i>outlet</i> is constructed, no <i>maps</i> are provided and the <i>name</i> of the reservoir is 'default'. These attributes are visable using the <i>reservoir</i> object's <i>print()</i> command."
   ]
  },
  {
   "cell_type": "markdown",
   "metadata": {},
   "source": [
    "# <font color='salmon'>Operations</font>\n",
    "\n",
    "<font color=slategray> Operations are functions applied to the reservoir during a simulation. They are defined seperately and are not part of the _Reservoir_ object. In the _canteen_ package an operations function must (at a minimum) accept the following arguments:\n",
    "\n",
    "* _input_: a _data.Input_ object containing at a minimum: a _date_, and an _inflow_. The _input_ object is discussed above.\n",
    "* _outlets_: reservoir outlets, as described above.\n",
    " \n",
    "The operations function must return a _Dict[str, float]_ that describes the release from each of the  _outlets_ provided in the function inputs.\n",
    "\n",
    "Some basic reservoir operations functions used to identify: target reservoir volumes (such as rule curves), target releases (such as maximum flood safe outflows and hedging rules) and releases made from each <i>outlet</i> are provided as part of the operations package. However, reservoir operations for simulation models are generally constructed from user defined functions. \n",
    "\n",
    "The defalut canteen's operations will be driven by the _passive_operations()_ function in the _operations_ module. This function is copied below.\n",
    "\n",
    "```python\n",
    "def passive_operations(input: data.Input, outlets: typing.List[outlet.Outlet]) -> typing.Dict[str, float]:\n",
    "    releases = {}\n",
    "    outlets.sort(key=lambda x: x.location)\n",
    "    stored, released = input.storage + input.inflow, 0\n",
    "    for x in outlets:\n",
    "        released += x.max_release(stored)\n",
    "        releases[x.name] = released\n",
    "        stored -= released\n",
    "    return releases\n",
    "```\n",
    "\n",
    "It causes the reservoir to release water that can be released (and therefore store water that cannot be released). Since the default canteen has only one spillway at the top of the reservoir (at its capacity volume of 1) the reservoir will only make spilled releases."
   ]
  },
  {
   "cell_type": "markdown",
   "metadata": {},
   "source": [
    "# <font color='salmon'>Simulation</font>\n",
    "\n",
    "<font color=slategray>To start a simulation the required components:\n",
    "* _inputs_: List[Input] (described above),\n",
    "* _reservoir_: Reservoir (described above),\n",
    "* _operate_function_: Callable[[Input, List[Outlet], Dict[str, float]] (described above),\n",
    "* _additional_outputs_ (optional): Dict[str, Additional_Output] (described in other examples, i.e. Wilson.ipynb)\n",
    "\n",
    "are assembled in a Simulation object. The simulate() function runs the simulation. To view the results as a dataframe, the simulate_to_dataframe() function is used below."
   ]
  },
  {
   "cell_type": "code",
   "execution_count": 6,
   "metadata": {},
   "outputs": [
    {
     "data": {
      "text/plain": [
       "['01 Jan 2000 (inflow: 1, storage: 0, spill: 0)',\n",
       " '02 Jan 2000 (inflow: 1, storage: 1, spill: 1.0)',\n",
       " '03 Jan 2000 (inflow: 2, storage: 1.0, spill: 2.0)',\n",
       " '04 Jan 2000 (inflow: 0, storage: 1.0, spill: 0)',\n",
       " '05 Jan 2000 (inflow: 0, storage: 1.0, spill: 0)']"
      ]
     },
     "execution_count": 6,
     "metadata": {},
     "output_type": "execute_result"
    }
   ],
   "source": [
    "default_simulation = Simulation(inputs, default_canteen, operations.passive_operations)\n",
    "results = default_simulation.simulate()\n",
    "[t.print() for t in results.timesteps]"
   ]
  },
  {
   "cell_type": "code",
   "execution_count": 7,
   "metadata": {},
   "outputs": [
    {
     "data": {
      "image/png": "[encoded data removed]",
      "text/plain": [
       "<Figure size 720x720 with 2 Axes>"
      ]
     },
     "metadata": {
      "needs_background": "light"
     },
     "output_type": "display_data"
    }
   ],
   "source": [
    "results.plot()"
   ]
  }
 ],
 "metadata": {
  "interpreter": {
   "hash": "af2a3020e4c65fbdb5f1d2953561583ddfd5b8dbf8076da1b196c87998ca6a0d"
  },
  "kernelspec": {
   "display_name": "Python 3.9.6 64-bit ('canteen': conda)",
   "name": "python3"
  },
  "language_info": {
   "codemirror_mode": {
    "name": "ipython",
    "version": 3
   },
   "file_extension": ".py",
   "mimetype": "text/x-python",
   "name": "python",
   "nbconvert_exporter": "python",
   "pygments_lexer": "ipython3",
   "version": "3.9.6"
  },
  "orig_nbformat": 4
 },
 "nbformat": 4,
 "nbformat_minor": 2
}
