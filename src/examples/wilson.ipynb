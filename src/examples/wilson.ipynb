{
 "cells": [
  {
   "cell_type": "markdown",
   "metadata": {},
   "source": [
    "# <font color='darkorchid'>Wilson Dam</font>\n",
    "<font color = 'slategray' > This notebook provides analyzes simulates the operations at Wilson dam, using the Canteen package. </font>\n",
    "\n",
    "by: John Kucharski | 12 July 2021\n"
   ]
  },
  {
   "cell_type": "code",
   "execution_count": 1,
   "metadata": {},
   "outputs": [],
   "source": [
    "import sys\n",
    "import datetime as datetime\n",
    "from typing import Callable, List, Dict\n",
    "\n",
    "import numpy as np\n",
    "import pandas as pd\n",
    "from scipy import interpolate\n",
    "import matplotlib.pyplot as plt"
   ]
  },
  {
   "cell_type": "code",
   "execution_count": 2,
   "metadata": {},
   "outputs": [],
   "source": [
    "sys.path.insert(0, '/Users/johnkucharski/Documents/source/canteen')\n",
    "from src.data import Category, Input, RunOrder, Output, TimeStep, factory, TimeSeries\n",
    "import src.outlet as outlet\n",
    "import src.reservoir as reservoir\n",
    "import src.utilities as utilities\n",
    "import src.operations as operations\n",
    "import src.simulation as simulation\n",
    "import src.optimization as optimization"
   ]
  },
  {
   "cell_type": "markdown",
   "metadata": {},
   "source": [
    "## <font color = slategray> Data Location </font>\n",
    "<font color = slategray> A global variables used to access simulation data defined here. </font>"
   ]
  },
  {
   "cell_type": "code",
   "execution_count": 3,
   "metadata": {},
   "outputs": [],
   "source": [
    "data_folder: str = '/Users/johnkucharski/Documents/data/usace/ks/'"
   ]
  },
  {
   "cell_type": "markdown",
   "metadata": {},
   "source": [
    "# <font color = salmon> Reservoir </font>"
   ]
  },
  {
   "cell_type": "markdown",
   "metadata": {},
   "source": [
    "## <font color = slateblue> map: volume-elevation (rating curve) </font>\n",
    "<font color = slategray> Wilson dam and reservoir data is generally expressed in units of elevation (ft), instead of volume (af). As a result, the rating curve below is established and ploted. </font> "
   ]
  },
  {
   "cell_type": "code",
   "execution_count": 4,
   "metadata": {},
   "outputs": [],
   "source": [
    "rating_path: str = data_folder + 'wilson_rating_curve.csv'\n",
    "volumes = np.loadtxt(rating_path, skiprows=1, delimiter=',', usecols=[1])      #af\n",
    "elevations = np.loadtxt(rating_path, skiprows=1, delimiter=',', usecols=[0])   #ft\n",
    "# rating curve function: elevation = f(volume) and inverse rating curve function fit to volume and elevation data.\n",
    "f_rating = interpolate.interp1d(volumes, elevations, fill_value=(elevations[0], elevations[-1]), bounds_error=False)\n",
    "inversef_rating = interpolate.interp1d(elevations, volumes, fill_value=(volumes[0], volumes[-1]), bounds_error=False)\n",
    "# construting map: f, f-1 rating curve functions (which are attached to reservoir object) \n",
    "rating_map = reservoir.Map(name='elevation', f=f_rating, inverse_f=inversef_rating)"
   ]
  },
  {
   "cell_type": "code",
   "execution_count": 5,
   "metadata": {},
   "outputs": [
    {
     "data": {
      "image/png": "[encoded data removed]",
      "text/plain": [
       "<Figure size 1080x360 with 1 Axes>"
      ]
     },
     "metadata": {
      "needs_background": "light"
     },
     "output_type": "display_data"
    }
   ],
   "source": [
    "fig, ax = plt.subplots(nrows=1, ncols=1, figsize=(15, 5))\n",
    "ax.scatter(volumes, elevations)\n",
    "ax.plot(volumes, f_rating(volumes), color='cornflowerblue', linestyle='dashed')\n",
    "ax.set_title('Rating Curve')\n",
    "ax.set_xlabel('Volume (AF)')\n",
    "ax.set_ylabel('Elevation (ft)')\n",
    "plt.show()"
   ]
  },
  {
   "cell_type": "markdown",
   "metadata": {},
   "source": [
    "## <font color = slateblue> outlets </font>\n",
    "<font color = slategray> The reservoir contains three outlets:\n",
    " - gate: a single release gate\n",
    " - spillway: a spillway (with no operational control)\n",
    " - emergency: an emergency spillway (with no operational control)"
   ]
  },
  {
   "cell_type": "code",
   "execution_count": 6,
   "metadata": {},
   "outputs": [],
   "source": [
    "gate_path = data_folder + 'wilson_outlets.csv'\n",
    "# maximum releases for these gates in cfs\n",
    "elevations = np.loadtxt(gate_path, skiprows=1, delimiter=',', usecols=[0])   # ft\n",
    "gate_max_cfs = np.loadtxt(gate_path, skiprows=1, delimiter=',', usecols=[1]) # cfs\n",
    "spillway_cfs = np.loadtxt(gate_path, skiprows=1, delimiter=',', usecols=[2]) # cfs\n",
    "emergency_cfs = np.loadtxt(gate_path, skiprows=1, delimiter=',', usecols=[3]) # cfs\n",
    "# gate locations and maximum releses in af per day\n",
    "gate_location, spillway_location, emergency_location = 1450.5, 1545.5, 1582.5\n",
    "volumes = [inversef_rating(x) for x in elevations]\n",
    "gate_max_af = [x * utilities.days_to_sec(1) * utilities.cf_to_af(1) for x in gate_max_cfs]\n",
    "spillway_af = [x * utilities.days_to_sec(1) * utilities.cf_to_af(1) for x in spillway_cfs]\n",
    "emergency_af = [x * utilities.days_to_sec(1) * utilities.cf_to_af(1) for x in emergency_cfs]\n",
    "# construct three reservoir outlets\n",
    "gate = outlet.Outlet('gate', inversef_rating(gate_location), utilities.f_interpolate_from_data(volumes, gate_max_af, extrapolate_lo=0, extrapolate_hi=gate_max_af[-1]))\n",
    "spillway = outlet.Outlet('spillway', inversef_rating(spillway_location), utilities.f_interpolate_from_data(volumes, spillway_af, extrapolate_lo=0, extrapolate_hi=spillway_af[-1])) \n",
    "emergency = outlet.Outlet('emergency_spillway', inversef_rating(emergency_location), utilities.f_interpolate_from_data(volumes, emergency_af, extrapolate_lo=0)) #Note: this will return nan above data range.\n",
    "# list of outlets\n",
    "wilson_outlets = [gate, spillway, emergency]"
   ]
  },
  {
   "cell_type": "markdown",
   "metadata": {},
   "source": [
    "<font color = slategray> The following block of code constructs a Canteen _reservoir_ object, for Wilson Dam."
   ]
  },
  {
   "cell_type": "code",
   "execution_count": 7,
   "metadata": {},
   "outputs": [
    {
     "data": {
      "text/plain": [
       "'default(capacity: 1821585.0, outlets: [emergency_spillway(location: 1503439.0), spillway(location: 609376.0), gate(location: 664.0)], mapped variables: [elevation])'"
      ]
     },
     "execution_count": 7,
     "metadata": {},
     "output_type": "execute_result"
    }
   ],
   "source": [
    "wilson = reservoir.Reservoir(capacity=float(inversef_rating(1592)), outlets=wilson_outlets, maps={rating_map})\n",
    "wilson.print()"
   ]
  },
  {
   "cell_type": "markdown",
   "metadata": {},
   "source": [
    "# <font color = salmon> Operations </font>\n",
    "\n",
    "<font color = 'slategray'>Wilson reservoir operations in this workbook are primarily based on those found in the 2021 Hydrologic Engineering Center Reservoir Simulation (HEC-RESSIM) model of the Kansas River Reservoirs Flood and Sediment Study. However, those models include system operations for the flood control and surcharge space operations. These system operations have the effect of altering the Wilson dam target elevation, based on the amount of floodwater being stored elsewhere in system. Modeling the entire flood and sediment study system is outside the scope of this effort. So, Wilson HEC-RESSIM model operations were modified to assume a constant, top-of-conservation target elevation. To run a simulation in the Canteen package, all the operations are contained in a single **operate()** function. However, for clarity the componentized HEC-RESSIM model set up is followed below.</font>\n",
    "\n",
    "## <font color = slateblue>Pools</font>\n",
    "\n",
    "<font color = slategray>In the HEC-RESSIM model, operational rules are defined for the following zones: \n",
    "<ol>\n",
    "<li> inactive (no operations) pool</li>\n",
    "<li> conservation pool </li>\n",
    "<li> flood pool, and </li> \n",
    "<li> surcharge space </li>\n",
    "</ol>\n",
    "\n",
    "In the HEC-RESSIM model releases above the top of the conservation pool/bottom of the flood pool is determined based on the storage in some of the Kansas River watershed system reservoirs. To reproduce that behavior here would require modeling the entire system, this beyond the scope of this assignment (and would not support the goals of this assignment). The operations here assume a constant top of conservation pool elevation of 1516 ft (as indicated in the HEC-RESSIM model).\n",
    "\n",
    "The _active_zone()_ function in the next block of code is used during the simulation to determine which zone of the reservoir is active. It returns an enum provided in the _operations_ module. "
   ]
  },
  {
   "cell_type": "code",
   "execution_count": 8,
   "metadata": {},
   "outputs": [],
   "source": [
    "top_inactive_elev_ft = 1440\n",
    "top_conservation_elev_ft = 1516\n",
    "surcharge_elevation_ft = 1554.5\n",
    "\n",
    "def active_zone(t: TimeStep) -> operations.Zone:\n",
    "    if t.storage() + t.inflows()  < rating_map.inverse_f(top_inactive_elev_ft):\n",
    "        return operations.Zone.INACTIVE\n",
    "    elif rating_map.inverse_f(top_inactive_elev_ft) < t.storage() + t.inflows() < rating_map.inverse_f(top_conservation_elev_ft):\n",
    "        return operations.Zone.CONSERVATION\n",
    "    elif rating_map.inverse_f(top_conservation_elev_ft) < t.storage() + t.inflows() < rating_map.inverse_f(surcharge_elevation_ft):\n",
    "        return operations.Zone.FLOOD\n",
    "    else:\n",
    "        return operations.Zone.SURCHARGE"
   ]
  },
  {
   "cell_type": "markdown",
   "metadata": {},
   "source": [
    "<font color=slategray> Next operations for each of these pools are defined as seperate functions. All of these operations could be defined in one large function, but this componentization of the code more closely matches the way these rule are defined in the HEC-RESSIM model. Each function takes two arguments: \n",
    "\n",
    "1. timestep data (_data.Timestep_): inputs for a single timestep in the simulation. The following components of the timestep are crtical to the reservoir operations:\n",
    "\n",
    "    * _Timestep.date_: a date for the simulation timestep, \n",
    "    * _Timestep.storage()_: the reservoir storage volume leading into the timestep, and\n",
    "    * _Timestep.inflow()_: the inflow volume into the reservoir in that timestep\n",
    "    * other _Timestep_ atttributes are described below.\n",
    "<br/><br/>\n",
    "2. outlets (List[outlet.Outlet]): a list of outlets from which the releases will be made, typically Reservoir.outlets\n",
    "\n",
    "Each fuction returns a dictionary (_Dict[str, float]_) with keys matching the _Outlet.name_ attribute an the release volume values.\n",
    "\n",
    "### <font color = salmon>INACTIVE ZONE\n",
    "<font color=slategray> Within the inactive zone no releases are made."
   ]
  },
  {
   "cell_type": "code",
   "execution_count": 9,
   "metadata": {},
   "outputs": [
    {
     "name": "stdout",
     "output_type": "stream",
     "text": [
      "{'gate': 0.0, 'spillway': 0.0, 'emergency_spillway': 0.0}\n"
     ]
    }
   ],
   "source": [
    "def inactive_operations(t: TimeStep, outlets: List[outlet.Outlet] = wilson_outlets, factor: float = 1) -> Dict[str, float]:\n",
    "    return {x.name: 0.0 for x in outlets}\n",
    "print(inactive_operations(t=TimeStep(date=datetime.date(2020, 1, 1), inputs={'inflow': Input(1, isoutput=False, category=Category.INFLOW), 'storage': Input(value=0, isoutput=False, category=Category.STORAGE)}), outlets=wilson_outlets))"
   ]
  },
  {
   "cell_type": "markdown",
   "metadata": {},
   "source": [
    "### <font color = salmon> CONSERVATION POOL\n",
    "\n",
    "<font color=slategray> A simple minimum release, defined as step function (based on time of year) is made from the conservation pool."
   ]
  },
  {
   "cell_type": "code",
   "execution_count": 10,
   "metadata": {},
   "outputs": [
    {
     "name": "stdout",
     "output_type": "stream",
     "text": [
      "{'gate': 9.917355371900825, 'spillway': 0.0, 'emergency_spillway': 0.0}\n"
     ]
    }
   ],
   "source": [
    "def conservation_operations(t: TimeStep, outlets: List[outlet.Outlet] = wilson_outlets, factor: float = 1) -> Dict[str, float]:\n",
    "    yr: int = t.date.year\n",
    "    convert = utilities.days_to_sec(1) * utilities.cf_to_af(1)\n",
    "    release = 15.0 * convert if datetime.date(yr, 4, 1) < t.date < datetime.date(yr, 10, 1) else 5.0 * convert   \n",
    "    return  {x.name: (min(release * max(factor, 1), x.max_release(t.storage() + t.inflows() - t.outflows())) if x.name == 'gate' else 0.0) for x in outlets}  \n",
    "print(conservation_operations(TimeStep(date=datetime.date(2020, 1, 1), inputs={'storage': Input(value=rating_map.inverse_f(1518), isoutput=False, category=Category.STORAGE), 'inflow': Input(value=1, isoutput=False, category=Category.INFLOW)}), wilson_outlets))     "
   ]
  },
  {
   "cell_type": "markdown",
   "metadata": {},
   "source": [
    "### <font color = salmon> FLOOD POOL\n",
    "\n",
    "<font color=slategray> In the HEC-RESSSIM model flood operations depend on storage in other Kansas watershed system reservoirs. Functions for these operations are provided at the end of this workbook, but are beyond the scope (would require modeling the entire system) and needs of this study. For this reason, a simple flood pool rule is provided in the next code block."
   ]
  },
  {
   "cell_type": "code",
   "execution_count": 11,
   "metadata": {},
   "outputs": [
    {
     "name": "stdout",
     "output_type": "stream",
     "text": [
      "{'gate': 6489.015732300253, 'spillway': 5643.449921240429, 'emergency_spillway': 0.0}\n"
     ]
    }
   ],
   "source": [
    "def flood_operations(t: TimeStep, outlets: List[outlet.Outlet] = wilson_outlets, factor: float = 1):\n",
    "    release = {}\n",
    "    storage = t.storage() + t.inflows() - t.outflows()\n",
    "    target = (storage - rating_map.inverse_f(top_conservation_elev_ft)) * factor\n",
    "    for x in outlets:\n",
    "        out = min(x.max_release(storage), target)\n",
    "        storage, target = storage - out, target - out\n",
    "        release[x.name] = out\n",
    "    return release\n",
    "print(flood_operations(TimeStep(date=datetime.date(2020, 1, 1), inputs={'storage': Input(value=rating_map.inverse_f(1550), isoutput=False, category=Category.STORAGE), 'inflow': Input(value=1, isoutput=False, category=Category.INFLOW)}), wilson_outlets))"
   ]
  },
  {
   "cell_type": "markdown",
   "metadata": {},
   "source": [
    "### <font color = salmon>SURCHARGE SPACE\n",
    "\n",
    "<font color=slategray> In this pool the _flood_release()_ rules still apply. No rules are given for releases above 1588 ft (the top of dam is at 1592), operations at 1588 are assumed for the purposes of this model to extend to the top of dam. Above the top of dam outflow is assumed to equal inflow."
   ]
  },
  {
   "cell_type": "code",
   "execution_count": 12,
   "metadata": {},
   "outputs": [
    {
     "name": "stdout",
     "output_type": "stream",
     "text": [
      "{'emergency_spillway': 9044.067258729357, 'spillway': 14538.506034737462, 'gate': 0.0}\n"
     ]
    }
   ],
   "source": [
    "def surcharge_operations(t: TimeStep, outlets: List[outlet.Outlet] = wilson_outlets, factor: float = 1):\n",
    "    storage = t.storage() + t.inflows() - t.outflows()\n",
    "    emergency_release = outlet.select_outlet('emergency_spillway', outlets).max_release(storage)\n",
    "    storage = storage - emergency_release\n",
    "    spillway_release = outlet.select_outlet('spillway', outlets).max_release(storage)\n",
    "    storage = storage - spillway_release\n",
    "    releases = flood_operations(t, outlet.deselect_outlets(['spillway', 'emergency_spillway'], outlets))\n",
    "    releases['spillway'] = spillway_release\n",
    "    releases['emergency_spillway'] = emergency_release\n",
    "    return releases\n",
    "print(surcharge_operations(TimeStep(date=datetime.date(2020, 1, 1), inputs={'storage': Input(value=rating_map.inverse_f(1585), isoutput=False, category=Category.STORAGE), 'inflow': Input(1, isoutput=False, category=Category.INFLOW)}), wilson_outlets))"
   ]
  },
  {
   "cell_type": "markdown",
   "metadata": {},
   "source": [
    "## <font color = slateblue>operate() function</font>\n",
    "\n",
    "<font color = slategray>To run a simulation an _operate_ function (mentioned above) is required. This function must match the signature of the release functions defined above. In particular the function takes the following arguments: \n",
    "\n",
    "1. timestep (_data.Timestep_),\n",
    "2. outlets (_List[outlet.Outlet]_). \n",
    "\n",
    "It returns a _Dict[str, float]_ containing _Outlet.name_ keys and release volume value pairs. This can be a single function containing the reservoir's operational rules. \n",
    "\n",
    "Wilson dam's operational rules are defined above across multiple functions (namely: _inactive_operations()_, _conservation_operations()_, _flood_operations()_, _surcharge_operations()_). In particular, a single function is defined for each of the reservoir's active zones. The _active_zone()_ function is used to determine which zone is active during each timestep in a simulation. \n",
    "\n",
    "The _operations_ module contains an _Operations_ base class that contains the required _operate()_ function. Its constructor, accepts a list of rules, matching the _operate()_ function's signature. The _Wilson_Operations_ subclass below inherits from the _Operations_ base class, its constructor takes the _active_zone()_ function as an arguement, in addition to the rules required by baseclass. The _active_zone()_ function and operational rules are used to define the _operate()_ function logic."
   ]
  },
  {
   "cell_type": "code",
   "execution_count": 13,
   "metadata": {},
   "outputs": [
    {
     "name": "stdout",
     "output_type": "stream",
     "text": [
      "{'gate': 0, 'spillway': 0.0, 'emergency_spillway': 0.0}\n"
     ]
    }
   ],
   "source": [
    "\n",
    "wilson_rules = [inactive_operations, conservation_operations, flood_operations, surcharge_operations] \n",
    "class Wilson_Operations(operations.Rules):\n",
    "    def __init__(self, rules: List[Callable[[Input, List[outlet.Outlet]], Dict[str, float]]] = wilson_rules,\n",
    "                 wilson_active_zone: Callable[[Input], operations.Zone] = active_zone) -> None:\n",
    "        self.active_zone = wilson_active_zone\n",
    "        super().__init__(rules)\n",
    "    \n",
    "    @property\n",
    "    def rules(self):\n",
    "        return super().rules\n",
    "    \n",
    "    def operate(self, t: TimeStep, outlets: List[outlet.Outlet], factor: float = 1) -> Dict[str, float]:\n",
    "        zone = self.active_zone(t)\n",
    "        if zone == operations.Zone.INACTIVE:\n",
    "            return self.rules[0](t, outlets, factor)\n",
    "        elif zone == operations.Zone.CONSERVATION or factor == 0:          \n",
    "            return self.rules[1](t, outlets, factor)\n",
    "        elif zone == operations.Zone.FLOOD:\n",
    "            return self.rules[2](t, outlets, factor)\n",
    "        else: #zone == operatins.Zone.SURCHARGE\n",
    "            return self.rules[3](t, outlets, factor)\n",
    "              \n",
    "wilson_ops = Wilson_Operations(wilson_rules)\n",
    "print(wilson_ops.operate(TimeStep(date=datetime.date(2021, 9, 3), inputs={'inflow': Input(value=100, isoutput=False, category=Category.INFLOW)}), wilson_outlets))"
   ]
  },
  {
   "cell_type": "markdown",
   "metadata": {},
   "source": [
    "# <font color = salmon> Water Quality </font>\n",
    "\n",
    "<font color = slategray> The central goal of Wilson example it to model the evolution of a water quality metric, salinity as a function of the reservoir operations. Secondary and tertiary goals include: \n",
    "\n",
    "* evaluating salinity under a variety of plausible inflows, and\n",
    "* optimizing the operations with respect to the salinity metric, given other operating constraints.\n",
    "\n",
    "The Wilson Dam salinity data is very poor (nearly unusable). The function below is a flexible continious formulation of the salinity concentration in the inflows, $f(q_{i,t}, b, a) = \\frac{b}{(1 + q_{i,t}^{a})}$, where $q_{i, t}$ is the volume of reservoir inflow in time $t$, $b$ is the concentration for minimum flow conditions, and $a$ controls the rate at which the concentration trends toward $0$ for increasing flow volumes. Using the default formulation, the inflow concentration function is: $f(q_{i,t}) = \\frac{1.7}{1 + q_{i,t}^1}$. The concentration of salinity in the reservoir during timestep, $t$ is modeled as weighted average of the concentration in the inflows and the stored water: e.g. $\\sigma_{t} = f(q_{i,t}, b, a)q_{i,t} + \\sigma_{t-1}q_{s,t-1}$ where $q_{s,t-1}$ is the volume of water stored at the reservoir at the end of timestep, $t -1$ (or equivalently at the beginning of timestep, $t$), and $\\sigma_t$ is the salinity concentration at timestep, $t$.\n",
    "\n",
    "Given the quality of the salinity data, it may make sense to evaluate a range of possible salinity functions."
   ]
  },
  {
   "cell_type": "code",
   "execution_count": 14,
   "metadata": {},
   "outputs": [],
   "source": [
    "def salinity_concentration(ts: TimeSeries, t: int, base_concentration: float = 1.7, decay: float = 1) -> Dict[str, float]:\n",
    "    '''\n",
    "        A rational function used to estimte percent salinity of reservoir inflows. \n",
    "        The highest concentration, 1.7% by default occurs with minimal flows, the concentration asymptotes toward 0 with increasing flow values.\n",
    "\n",
    "        Args:\n",
    "            ts [List[TimeStep]]: List of the current simulation timesteps, containing the previous time step storage and current time step inflows.\n",
    "            base_concentration [float]: the maximum concentration, 1.7 percent by default.\n",
    "            decay [float]: controls the rate a which the estimated concentation trends toward zero with increasing flow values, 1 by default (<1 for slower decay, >1 for faster decay).\n",
    "        Returns:\n",
    "            A dictionary with a single key: 'concentration' and single float value representing the salinity concentration as a percent. This is the concentration at the beginning of the next time step.\n",
    "        Note:\n",
    "            An assumption is made that the concentration in the reservoir release at time t is the same as the concentration computed here, e.g. this output should be run before operations.\n",
    "    '''\n",
    "    sal_input = 0 if ts[t].inflows() == 0 else base_concentration / (1 + ts[t].inflows() ** decay) * ts[t].inflows()\n",
    "    return {'concentration': (sal_input * ts[t].inflows() + ts[t-1].inputs['concentration'].value * ts[t].storage()) / (ts[t].storage() + ts[t].inflows()) if t > 0 else ts[t].inputs['concentration'].value }"
   ]
  },
  {
   "cell_type": "markdown",
   "metadata": {},
   "source": [
    "# <font color = salmon> Simulation </font>\n",
    "\n",
    "<font color = 'slategray'>A simulation is run by the _Simulation_ class. This class is constructed using the _Simultion() constructor, which accepts the following arguments:\n",
    "\n",
    "1. a list of data **inputs**: _List[input.Input]_ (described below)    \n",
    "2. **wilson**: _Reservoir_ object (described above), \n",
    "3. **wilson_ops**: _operate()_ function (also described above), and\n",
    "4. _additional_outputs_: _Dict[str, Additional_Output]_ (described below)\n",
    "</font>\n",
    "\n",
    "\n",
    "## <font color = slateblue>Input</font>\n",
    "\n",
    "<font color = slategray>The inputs for a simulation are provided as a list of inputs (e.g. _List[inputs.Input]_). Each _Input_ item in this list serves as the input for a timestep in the simulation model. An _Input_ contains at a minimum:\n",
    "\n",
    "1. _date_: a _datetime.date_ for the simulation timestep. </li>\n",
    "2. _inflow_: an inflow volume at the _Reservoir_ during the simulation timestep. </li>\n",
    "3. _storage_: an storage volume in the reservoir at the beginning of timestep. </li> \n",
    "4. _additional_arguments_: an optional _Dict[str, Any]_ of input key, value pairs described below. </li>\n",
    "\n",
    "In this case the _date_ and _inflow_ parameters for the list of _Input_ are taken from the _dam_inflows.csv_ data. The simulation is initialized with the _Input.storage_ value equivalent to the top of conservation pool volume. Each subsquent _Input.storage_ value is updated within the _simulate()_ function, so the the np.nan value is used to initialize those _Input.storage_ values. A function for importing the _dam_inflows.csv_ data, and generating the _storage_ values is presented and run below. Then the first 5 _Input_ values, from this data files are displayed below."
   ]
  },
  {
   "cell_type": "markdown",
   "metadata": {},
   "source": [
    "<font color=slategray>The following code block packages this input data into the list required for the simulation constructor (descirbed above);"
   ]
  },
  {
   "cell_type": "code",
   "execution_count": 15,
   "metadata": {},
   "outputs": [
    {
     "data": {
      "text/html": [
       "<div>\n",
       "<style scoped>\n",
       "    .dataframe tbody tr th:only-of-type {\n",
       "        vertical-align: middle;\n",
       "    }\n",
       "\n",
       "    .dataframe tbody tr th {\n",
       "        vertical-align: top;\n",
       "    }\n",
       "\n",
       "    .dataframe thead th {\n",
       "        text-align: right;\n",
       "    }\n",
       "</style>\n",
       "<table border=\"1\" class=\"dataframe\">\n",
       "  <thead>\n",
       "    <tr style=\"text-align: right;\">\n",
       "      <th></th>\n",
       "      <th>inflow</th>\n",
       "      <th>storage</th>\n",
       "      <th>concentration</th>\n",
       "    </tr>\n",
       "    <tr>\n",
       "      <th>date</th>\n",
       "      <th></th>\n",
       "      <th></th>\n",
       "      <th></th>\n",
       "    </tr>\n",
       "  </thead>\n",
       "  <tbody>\n",
       "    <tr>\n",
       "      <th>1919-08-30</th>\n",
       "      <td>18</td>\n",
       "      <td>1000000.0</td>\n",
       "      <td>1.0</td>\n",
       "    </tr>\n",
       "    <tr>\n",
       "      <th>1919-08-31</th>\n",
       "      <td>18</td>\n",
       "      <td>NaN</td>\n",
       "      <td>NaN</td>\n",
       "    </tr>\n",
       "    <tr>\n",
       "      <th>1919-09-01</th>\n",
       "      <td>18</td>\n",
       "      <td>NaN</td>\n",
       "      <td>NaN</td>\n",
       "    </tr>\n",
       "    <tr>\n",
       "      <th>1919-09-02</th>\n",
       "      <td>18</td>\n",
       "      <td>NaN</td>\n",
       "      <td>NaN</td>\n",
       "    </tr>\n",
       "    <tr>\n",
       "      <th>1919-09-03</th>\n",
       "      <td>22</td>\n",
       "      <td>NaN</td>\n",
       "      <td>NaN</td>\n",
       "    </tr>\n",
       "  </tbody>\n",
       "</table>\n",
       "</div>"
      ],
      "text/plain": [
       "            inflow    storage  concentration\n",
       "date                                        \n",
       "1919-08-30      18  1000000.0            1.0\n",
       "1919-08-31      18        NaN            NaN\n",
       "1919-09-01      18        NaN            NaN\n",
       "1919-09-02      18        NaN            NaN\n",
       "1919-09-03      22        NaN            NaN"
      ]
     },
     "execution_count": 15,
     "metadata": {},
     "output_type": "execute_result"
    }
   ],
   "source": [
    "from pathlib import Path\n",
    "path = Path(f'/Users/johnkucharski/Documents/data/usace/ks/dam_inflows.csv').resolve()\n",
    "inputs = pd.read_csv(path, skiprows=[1, 2, 3], usecols=[1, 2], parse_dates=True)\n",
    "inputs.columns = inputs.columns.str.replace(\" \",\"\")\n",
    "inputs.rename(columns={'Date/Time': 'date', 'WILSONDAMFLOW-INEXTENDED': 'inflow'}, inplace=True)\n",
    "inputs.date = [x.rsplit(',', maxsplit=1)[0] for x in inputs.date.to_numpy()]\n",
    "inputs.date = pd.to_datetime(inputs.date.to_numpy())\n",
    "inputs = inputs[inputs.inflow.apply(lambda x: x.isnumeric())].set_index('date')\n",
    "inputs.inflow = pd.to_numeric(inputs.inflow)\n",
    "inputs['storage'] = [1000000 if t == 0 else float('nan') for t in range(len(inputs))]\n",
    "inputs['concentration'] = [1 if t == 0 else float('nan') for t in range(len(inputs))]\n",
    "inputs.head()"
   ]
  },
  {
   "cell_type": "code",
   "execution_count": 16,
   "metadata": {},
   "outputs": [],
   "source": [
    "outputs = Output(fn=salinity_concentration, category=Category.OTHER, runorder=RunOrder.PRE_OPERATIONS).to_dict('salinity', values_list=False, n=len(inputs))"
   ]
  },
  {
   "cell_type": "code",
   "execution_count": 17,
   "metadata": {},
   "outputs": [
    {
     "name": "stdout",
     "output_type": "stream",
     "text": [
      "['30 Aug 1919 (inflow: 18.0 [inflow], storage: 1000000.0 [storage], concentration: 1.0 [other], salinity:  computed pre_operations)', '31 Aug 1919 (inflow: 18.0 [inflow], storage: nan [storage, output], concentration: nan [other, output], salinity:  computed pre_operations)', '01 Sep 1919 (inflow: 18.0 [inflow], storage: nan [storage, output], concentration: nan [other, output], salinity:  computed pre_operations)', '02 Sep 1919 (inflow: 18.0 [inflow], storage: nan [storage, output], concentration: nan [other, output], salinity:  computed pre_operations)', '03 Sep 1919 (inflow: 22.0 [inflow], storage: nan [storage, output], concentration: nan [other, output], salinity:  computed pre_operations)']\n"
     ]
    }
   ],
   "source": [
    "ts = TimeSeries.from_dataframe(inputs, outputs)\n",
    "msgs = [ts.timesteps[t].print(verbose=True) for t in range(5)]\n",
    "print(msgs)"
   ]
  },
  {
   "cell_type": "code",
   "execution_count": 18,
   "metadata": {},
   "outputs": [],
   "source": [
    "# inputs = {'inflow_af': list(wilson_input_data.inflow_af.to_numpy())}\n",
    "# print(inputs)\n",
    "\n",
    "# wilson_inputs = factory(dates=wilson_input_data.date.to_numpy(), \n",
    "#                         inputs={'inflow_af': list(wilson_input_data.inflow_af.to_numpy()), \n",
    "#                                 'storage_af': list(wilson_input_data.storage_af.to_numpy())},\n",
    "#                         outputs={'salinity_concentration': Output(salinity_concentration, category=Category.OTHER, run_order=RunOrder.PRE_OPERATIONS).duplicate(len(wilson_input_data.date.to_numpy()))})\n",
    "#wilson_inputs = [data.Input(date=row['date'], inflow=row['inflow_af'], storage=row['storage_af'], update_storage=True) for _, row in wilson_input_data.iterrows()]"
   ]
  },
  {
   "cell_type": "markdown",
   "metadata": {},
   "source": [
    "## <font color = slateblue>Additional Outputs</font>\n",
    "\n",
    "<font color = slategray> The _additional_outputs_ argument allows the user to *injecting* the reservoir simulation with one or more functions or models. In this case, a water quality model that produces a salinity concentration output is run during the reservoir simulation.\n",
    "\n",
    "The _additional_outputs_ argument is input as a dictionary with string labels (keys) and Additional_Output (value) pairs. The _Additional_Output_ object is constructed using the _Additional_Output()_ constructor, which takes the following arguments:\n",
    "\n",
    "1. _fn_: _Callable[[input,...], Dict[str, Any]]_ function, such as \"model.run()\" that accepts the Simulation.input argument and returns a dictionary of of labeld outputs (in the form _Dict[str, Any]_). \n",
    "\n",
    "In this case, _fn_ is the _salinity_concentration()_ function that returns a float value representing the reservoir salinity concentration, with the label (key) 'concentration'. (_note_: this somewhat awkward return value makes it possible to store multiple outputs from a single _fn_ function).\n",
    "\n",
    "2. _is_outflow_: a boolean with a default value of 'False' that determines if the return values from the function should be subtracted out of the reservoir volume as an outflow (or not). \n",
    "\n",
    "For example, _is_outflow_ would allow a evaporation model to be included as _fn_ input, that returns generates evaporation amounts which are subtracted from the reservoir storaage values.\n",
    "\n",
    "3. _run_order_: a Enum [BEFORE_OPERATIONS, BEFORE_STORAGE, AFTER_STORAGE] with a default value of AFTER_STORAGE that determines when in the simulation process the _fn_ function should be called."
   ]
  },
  {
   "cell_type": "code",
   "execution_count": 19,
   "metadata": {},
   "outputs": [],
   "source": [
    "#wilson_additional_output = simulation.Additional_Output(salinity_concentration, run_order=simulation.Run_Order.BEFORE_OPERATIONS)"
   ]
  },
  {
   "cell_type": "markdown",
   "metadata": {},
   "source": [
    "# <font color=salmon>Running Simulation\n",
    "\n",
    "<font color=slategray> The following code block constructs the _Simulation_ object and runs the simulation using the _simulate_to_dataframe()_ command, which calls the _simulate()_ function and returns the output in the form of a _pandas.DataFrame_."
   ]
  },
  {
   "cell_type": "code",
   "execution_count": 20,
   "metadata": {},
   "outputs": [
    {
     "name": "stdout",
     "output_type": "stream",
     "text": [
      "['30 Aug 1919 (inflow: 18.0, storage: 1000000.0, concentration: 1.0, gate: 0.0, spillway: 13361.531422020871, emergency_spillway: 0.0, salinity:  computed pre_operations)', '31 Aug 1919 (inflow: 18.0, storage: 986656.4685779791, concentration: 1.0000111378920142, gate: 0.0, spillway: 13333.532914452659, emergency_spillway: 0.0, salinity:  computed pre_operations)', '01 Sep 1919 (inflow: 18.0, storage: 973340.9356635265, concentration: 1.0000224279442236, gate: 0.0, spillway: 13305.593155681992, emergency_spillway: 0.0, salinity:  computed pre_operations)', '02 Sep 1919 (inflow: 18.0, storage: 960053.3425078446, concentration: 1.0000338740415027, gate: 0.0, spillway: 13277.712022437257, emergency_spillway: 0.0, salinity:  computed pre_operations)', '03 Sep 1919 (inflow: 22.0, storage: 946793.6304854073, concentration: 1.0000484208734002, gate: 0.0, spillway: 13249.897784838224, emergency_spillway: 0.0, salinity:  computed pre_operations)']\n"
     ]
    }
   ],
   "source": [
    "sim = simulation.Simulation(ts, wilson, wilson_ops.operate)\n",
    "result = sim.simulate()\n",
    "print([result.timesteps[t].print() for t in range(5)])"
   ]
  },
  {
   "cell_type": "code",
   "execution_count": 21,
   "metadata": {},
   "outputs": [
    {
     "data": {
      "image/png": "[encoded data removed]",
      "text/plain": [
       "<Figure size 720x720 with 4 Axes>"
      ]
     },
     "metadata": {
      "needs_background": "light"
     },
     "output_type": "display_data"
    }
   ],
   "source": [
    "\n",
    "result.plot('concentration')"
   ]
  },
  {
   "cell_type": "code",
   "execution_count": 22,
   "metadata": {},
   "outputs": [],
   "source": [
    "# fig, ax = plt.subplots(nrows=4, ncols=1, sharex=True, figsize=(15, 10))\n",
    "# plt.suptitle('Wilson Simulation Summary Ouputs')\n",
    "# ax[0].set_title('Inflows')\n",
    "# ax[0].set_ylabel('volume')\n",
    "# ax[0].step(outputs.index, outputs.inflow / 1000, where='post', color='cornflowerblue', linestyle='dashed', label='inflow')\n",
    "# ax[1].set_title('Storage')\n",
    "# ax[1].set_ylabel('volume')\n",
    "# ax[1].step(outputs.index, outputs.storage / 1000, where='post', color='blue', linestyle='solid', label='storage')\n",
    "# ax[2].set_title('Outflows')\n",
    "# ax[2].set_ylabel('volume')\n",
    "# ax[2].step(outputs.index, outputs.total_release / 1000, where='post', color='darkorchid', linestyle='solid', label='outflow')\n",
    "# ax[3].set_title('Salinity')\n",
    "# ax[3].set_ylabel('salinity concentration')\n",
    "# ax[3].step(outputs.index, outputs.salinity_concentration, where='post', color='green', linestyle='solid', label='salinity concentration')\n",
    "# ax[3].set_xlabel('Date')\n",
    "# plt.show()"
   ]
  },
  {
   "cell_type": "markdown",
   "metadata": {},
   "source": [
    "# <font color=salmon> Optimization using PTreeOpt\n",
    "\n",
    "<font color=slategray>The ptreeopt package is used to find operational rules that _minimize_ the _salinity concentration_ while preventing the reservoir from entering the _inactive pool_ or _surcharge space_. An _Optimizaiton_ object in the _canteen_ package stores data requred by the _ptreeopt_ optimiztion routines. "
   ]
  },
  {
   "cell_type": "markdown",
   "metadata": {},
   "source": [
    "## <font color=slateblue> Optimization\n",
    "\n",
    "<font color = slategray>The optimization object constructor (_optimizaiton.Optimization()_) requires the following inputs:\n",
    "\n",
    "1. _thresholds_: a _Dict[str, List[Any]]_ containing a string label (key) matching the name of a simulation output, and and a List[Any] (value) describing threshold values that correspond to optimization objectives. The _Optimizaiton_ object recognizes the following five types of threshold valuse:\n",
    "    * A list with a single string value, either (1) 'min', or (2) 'max' indicating that the simulation output with the name matching the threshold string key should be minimized or maximized, respectively.\n",
    "\n",
    "    * A list containing either a (3) '<', or '(4) >' string followed by a float value, _x_. The case, ['>', _x_] indicates that optimization routine will search for solutions in which value of the simulation output (with a name that matches the threshold key) exceeds the float value, _x_. The case, ['<', _x_] indicates the optimization routine will search for solution in whcih the value of the output does _not_ exceed the threshold, _x_.\n",
    "\n",
    "    * (5) A list containing a minimim and maximum bound, in the form: ['minimum', 'maximum'], where 'minimum' and 'maximum' are float values. In this case the optimization routine will search for solutions in which the simulation output, with the same name as the threshold key, is on the range ['minimum', 'maximum'].\n",
    "\n",
    "> In this case: the wilson reservoir salinity_concentration threshold is defined as _'salinity_concentration': ['min']_, and a storage constraint is defined using method (5) with the minimum set to the top of the inactive storage elevation and the maximum set to the bottom of surcharge space volume, below.\n",
    "\n",
    "2. _indicators_: a OrderedDict[str, Tuple[float, float]] containing a string label matching a simulation input or output variable and range of variable values that the optimizaiton routine uses it trigger actions (described next). For instance, { 'storage': [100, 1000], 'inflow: [0, 100]}.\n",
    "\n",
    "> In this case: indicators associated with the salinity concentration, inflow and storage are defined, in the code block below.\n",
    "\n",
    "3. _actions_: a set of labels corresponding to operational rules implemented in a simulation or operations function.\n",
    "\n",
    "> In this case: 10 actions modifying the release between the minimum release a double the typical release (given the active pool) are defined below. \n",
    "\n",
    "These threshold values are used to generate a penalty function, which increases when the thresholds are violated. The ptreeopt optimization routine then attempts to minimize this penalty function, by searching across many interations of the simulation() function for a set of operational rules and proposed actions, developed by adjusting indicator variables within their specified bounds, that results in the smallest penalty."
   ]
  },
  {
   "cell_type": "code",
   "execution_count": 23,
   "metadata": {},
   "outputs": [],
   "source": [
    "wilson_thresholds = {\n",
    "    'concentration': ['min'],\n",
    "    'storage': [inversef_rating(top_inactive_elev_ft), inversef_rating(spillway_location)], \n",
    "    #add release\n",
    "}\n",
    "wilson_indicators = {\n",
    "    'concentration': [0, 2],\n",
    "    'storage': [inversef_rating(top_inactive_elev_ft), inversef_rating(spillway_location)],\n",
    "    'inflow': [0, 1500]\n",
    "}\n",
    "actions = [0, .1, .25, .5, .75, .9, 1, 1.25, 1.5, 2]\n",
    "wilson_opt = optimization.Optimization(sim, wilson_thresholds, wilson_indicators, actions)"
   ]
  },
  {
   "cell_type": "code",
   "execution_count": 24,
   "metadata": {},
   "outputs": [],
   "source": [
    "import ptreeopt as ptree\n",
    "algorithm = ptree.PTreeOpt(wilson_opt.optimize, \n",
    "                           feature_bounds = [[0, 2], [inversef_rating(top_inactive_elev_ft), inversef_rating(spillway_location)], [0, 1500]],\n",
    "                           feature_names = ['concentration', 'storage', 'inflow'],\n",
    "                           discrete_actions = True,\n",
    "                           action_names = actions,\n",
    "                           )"
   ]
  },
  {
   "cell_type": "code",
   "execution_count": 25,
   "metadata": {},
   "outputs": [],
   "source": [
    "opt = algorithm.run(max_nfe = 10) "
   ]
  },
  {
   "cell_type": "code",
   "execution_count": 26,
   "metadata": {},
   "outputs": [
    {
     "name": "stdout",
     "output_type": "stream",
     "text": [
      "(<ptreeopt.tree.PTree object at 0x7f9dd10225e0>, 6.4203782087803955e+60, {'nfe': [100], 'time': [3432], 'best_f': [6.4203782087803955e+60], 'best_P': [<ptreeopt.tree.PTree object at 0x7f9dd10225e0>]})\n"
     ]
    }
   ],
   "source": [
    "print(opt)"
   ]
  },
  {
   "cell_type": "code",
   "execution_count": 27,
   "metadata": {},
   "outputs": [
    {
     "name": "stdout",
     "output_type": "stream",
     "text": [
      "inflow < 163, storage < 323097, storage < 233381, 0.25 (0.00%), 0.0 (82.64%), 0.75 (0.13%), storage < 478204, storage < 320535, 0.0 (17.21%), concentration < 1, 0.25 (0.00%), 1.25 (0.00%), 1.5 (0.02%)\n"
     ]
    }
   ],
   "source": [
    "# (best solution, best score =obj function, disctionary or snapshots. = convergence and runtime stats)\n",
    "print(opt[0])"
   ]
  },
  {
   "cell_type": "code",
   "execution_count": 28,
   "metadata": {},
   "outputs": [],
   "source": [
    "import pickle\n",
    "snapshots = opt\n",
    "p = snapshots[2]['best_P'][0]"
   ]
  },
  {
   "cell_type": "code",
   "execution_count": 29,
   "metadata": {},
   "outputs": [],
   "source": [
    "from ptreeopt.plotting import *\n",
    "graphviz_export(p, 'test.svg')"
   ]
  }
 ],
 "metadata": {
  "interpreter": {
   "hash": "af2a3020e4c65fbdb5f1d2953561583ddfd5b8dbf8076da1b196c87998ca6a0d"
  },
  "kernelspec": {
   "display_name": "Python 3.9.6 64-bit ('canteen': conda)",
   "name": "python3"
  },
  "language_info": {
   "codemirror_mode": {
    "name": "ipython",
    "version": 3
   },
   "file_extension": ".py",
   "mimetype": "text/x-python",
   "name": "python",
   "nbconvert_exporter": "python",
   "pygments_lexer": "ipython3",
   "version": "3.9.6"
  },
  "orig_nbformat": 4
 },
 "nbformat": 4,
 "nbformat_minor": 2
}
