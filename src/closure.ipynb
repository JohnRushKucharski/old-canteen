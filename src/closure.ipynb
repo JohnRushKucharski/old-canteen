{
 "cells": [
  {
   "cell_type": "code",
   "execution_count": null,
   "metadata": {},
   "outputs": [],
   "source": [
    "def gates_fx(outlets):\n",
    "    pass\n",
    "def release_volume(gates_fx, target, max_release):\n",
    "    if target > max_release:\n",
    "        return gates_fx\n",
    "    else:\n",
    "        return gates_fx\n",
    "\n",
    "def rule_curve(inner, dowy, vol, target1, target2):\n",
    "    if dowy < target1[0]:\n",
    "        return inner(gates_fx, target1[1]) \n",
    "    elif dowy < target2[0]:\n",
    "        target2[1]\n",
    "    else:\n",
    "        raise AttributeError('The dowy is not on a valid range.')"
   ]
  },
  {
   "cell_type": "code",
   "execution_count": 4,
   "metadata": {},
   "outputs": [
    {
     "name": "stdout",
     "output_type": "stream",
     "text": [
      "365\n"
     ]
    }
   ],
   "source": [
    "is_leap_year = False\n",
    "dowy = 365 if not is_leap_year else 366\n",
    "print(dowy)"
   ]
  },
  {
   "cell_type": "code",
   "execution_count": 2,
   "metadata": {},
   "outputs": [
    {
     "name": "stdout",
     "output_type": "stream",
     "text": [
      "1\n"
     ]
    }
   ],
   "source": [
    "vol, target, max, min = 2, 1, 2, 1.5\n",
    "x = vol - target if (vol - target) < max else max\n",
    "print(x)"
   ]
  },
  {
   "cell_type": "code",
   "execution_count": 9,
   "metadata": {},
   "outputs": [
    {
     "name": "stdout",
     "output_type": "stream",
     "text": [
      "0001-01-03 00:00:00\n"
     ]
    }
   ],
   "source": [
    "import datetime\n",
    "the_date = datetime.datetime(2021, 7, 4)\n",
    "create_dates = True\n",
    "date = datetime.datetime(datetime.MINYEAR, 1, 1) + datetime.timedelta(days=1) * 2 if create_dates else the_date\n",
    "print(date)"
   ]
  },
  {
   "cell_type": "code",
   "execution_count": 1,
   "metadata": {},
   "outputs": [
    {
     "data": {
      "text/plain": [
       "0.75"
      ]
     },
     "execution_count": 1,
     "metadata": {},
     "output_type": "execute_result"
    }
   ],
   "source": [
    "def decorator(fn):\n",
    "    release = 1   \n",
    "    def wrapper(min, max):\n",
    "        return fn(min, max, release)\n",
    "    return wrapper\n",
    "\n",
    "def release(doy, limits):\n",
    "    if doy < 364:\n",
    "        release = 0\n",
    "    else:\n",
    "        release = 1\n",
    "    def inner(min, max):\n",
    "        return limits(release, min, max)\n",
    "    return inner\n",
    "        \n",
    "\n",
    "@decorator\n",
    "def release_limits(min, max, release = None):   \n",
    "    if release == None:\n",
    "        return \"None\"\n",
    "    if release < min:\n",
    "        return min\n",
    "    elif release > max:\n",
    "        return max\n",
    "    else:\n",
    "        return release\n",
    "    \n",
    "#rel_limits = release_limits(0.25, 0.75)\n",
    "#rel = release(1, rel_limits)\n",
    "release_limits(0.25, 0.75)"
   ]
  },
  {
   "cell_type": "code",
   "execution_count": null,
   "metadata": {},
   "outputs": [],
   "source": []
  }
 ],
 "metadata": {
  "interpreter": {
   "hash": "af2a3020e4c65fbdb5f1d2953561583ddfd5b8dbf8076da1b196c87998ca6a0d"
  },
  "kernelspec": {
   "display_name": "Python 3.8.5 64-bit ('canteen': conda)",
   "name": "python3"
  },
  "language_info": {
   "codemirror_mode": {
    "name": "ipython",
    "version": 3
   },
   "file_extension": ".py",
   "mimetype": "text/x-python",
   "name": "python",
   "nbconvert_exporter": "python",
   "pygments_lexer": "ipython3",
   "version": "3.8.5"
  },
  "orig_nbformat": 4
 },
 "nbformat": 4,
 "nbformat_minor": 2
}