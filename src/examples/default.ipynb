{
 "cells": [
  {
   "cell_type": "markdown",
   "source": [
    "# <font color='darkorchid'>Default Canteen</font>\n",
    "<font color = 'slategray' > This notebook provides an example setup for a default reservoir and simulation using the Canteen package. This is the best staring place for new users. </font>\n",
    "\n",
    "by: John Kucharski | 22 March 2021\n"
   ],
   "metadata": {}
  },
  {
   "cell_type": "code",
   "execution_count": 1,
   "source": [
    "import sys\n",
    "import typing\n",
    "\n",
    "import numpy as np\n",
    "import pandas as pd\n",
    "import matplotlib.pyplot as plt\n"
   ],
   "outputs": [],
   "metadata": {}
  },
  {
   "cell_type": "code",
   "execution_count": 2,
   "source": [
    "sys.path.insert(0, '/Users/johnkucharski/Documents/source/canteen')\n",
    "import src.reservoir as reservoir\n",
    "import src.simulation as simulation"
   ],
   "outputs": [],
   "metadata": {}
  },
  {
   "cell_type": "markdown",
   "source": [
    "## <font color='salmon'>Reservoir</font>\n",
    "\n",
    "A reservoir in the canteen program is made up of the following items:\n",
    "* a <i>capacity</i> and <i>bottom</i> volume\n",
    "* a list of <i>outlets</i>\n",
    "* a dictionary functional <i>maps</i> linking volumetric locations to named variables\n",
    "* a <i>name</i>\n",
    "\n",
    "A default reservoir can be created with a single line of code."
   ],
   "metadata": {}
  },
  {
   "cell_type": "code",
   "execution_count": 3,
   "source": [
    "default_canteen = reservoir.Reservoir()"
   ],
   "outputs": [],
   "metadata": {}
  },
  {
   "cell_type": "markdown",
   "source": [
    "By default the reservoir <i>capacity</i> = 1, a single spillway <i>outlet</i> is constructed, no <i>maps</i> are provided and the <i>name</i> of the reservoir is 'default'. These attributes are visable using the <i>reservoir</i> object's <i>print()</i> command."
   ],
   "metadata": {}
  },
  {
   "cell_type": "code",
   "execution_count": 4,
   "source": [
    "default_canteen.print()"
   ],
   "outputs": [
    {
     "output_type": "execute_result",
     "data": {
      "text/plain": [
       "'default(capacity: 1, outlets: [spill(location: 1)], mapped variables: [None])'"
      ]
     },
     "metadata": {},
     "execution_count": 4
    }
   ],
   "metadata": {}
  },
  {
   "cell_type": "markdown",
   "source": [
    "## <font color='salmon'>Operations</font>\n",
    "\n",
    "<i>Reservoir</i> operations are functions applied to the reservoir during the simulation. They are defined seperately and are not part of the <i>Reservoir</i> object. \n",
    "\n",
    "Some basic reservoir operations functions used to identify: target reservoir volumes (such as rule curves), target releases (such as maximum flood safe outflows and hedging rules) and releases made from each <i>outlet</i> are provided as part of the operations package. However, reservoir operations for simulation models will generally be constructed from custom made scripts. These scripted functions will generally take in a storage plus inflow volume, along with other relevant operational variables (i.e., day of year, available reservoir outlets, etc.) and return an outflows for each of the reservoir outlets.\n",
    "\n",
    "As an example standard operating proceedures for the default reservoir are defined in the code block below."
   ],
   "metadata": {}
  },
  {
   "cell_type": "code",
   "execution_count": 5,
   "source": [
    "def standard_operating_proceedures(res: reservoir.Reservoir, volume: float, demand: float) -> typing.Dict[str, float]:\n",
    "    releases = {}\n",
    "    volume_released: float = 0\n",
    "    target_release: float = demand if volume - demand <= res.capacity else volume - res.capacity\n",
    "    for i in range(0, len(res.outlets)):\n",
    "        if volume_released < target_release and res.outlets[i].location < volume:\n",
    "            release = min(target_release - volume_released, volume - res.outlets[i].location, res.outlets[i].max_release)\n",
    "            releases[res.outlets[i].name] = release\n",
    "            volume_released += release\n",
    "            volume -= release\n",
    "    return releases          "
   ],
   "outputs": [],
   "metadata": {}
  },
  {
   "cell_type": "markdown",
   "source": [
    "## <font color='salmon'>Simulation</font>\n",
    "\n",
    "A simulation takes in reservoir inflows, demands and other inputs, keeps track of reservoir storage and state variables mapped to storage volumes, and reports outflow information. "
   ],
   "metadata": {}
  },
  {
   "cell_type": "code",
   "execution_count": null,
   "source": [],
   "outputs": [],
   "metadata": {}
  },
  {
   "cell_type": "code",
   "execution_count": null,
   "source": [],
   "outputs": [],
   "metadata": {}
  }
 ],
 "metadata": {
  "interpreter": {
   "hash": "af2a3020e4c65fbdb5f1d2953561583ddfd5b8dbf8076da1b196c87998ca6a0d"
  },
  "kernelspec": {
   "name": "python3",
   "display_name": "Python 3.9.6 64-bit ('canteen': conda)"
  },
  "language_info": {
   "name": "python",
   "version": "3.9.6",
   "mimetype": "text/x-python",
   "codemirror_mode": {
    "name": "ipython",
    "version": 3
   },
   "pygments_lexer": "ipython3",
   "nbconvert_exporter": "python",
   "file_extension": ".py"
  },
  "orig_nbformat": 4
 },
 "nbformat": 4,
 "nbformat_minor": 2
}